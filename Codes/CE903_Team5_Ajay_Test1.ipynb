{
  "nbformat": 4,
  "nbformat_minor": 0,
  "metadata": {
    "colab": {
      "name": "CE903_Team5_Ajay_Test1.ipynb",
      "provenance": [],
      "collapsed_sections": [],
      "authorship_tag": "ABX9TyPQzaQa7bM+NZlaA67q1yl6",
      "include_colab_link": true
    },
    "kernelspec": {
      "name": "python3",
      "display_name": "Python 3"
    },
    "language_info": {
      "name": "python"
    }
  },
  "cells": [
    {
      "cell_type": "markdown",
      "metadata": {
        "id": "view-in-github",
        "colab_type": "text"
      },
      "source": [
        "<a href=\"https://colab.research.google.com/github/ah20776/CE903-Group-Project/blob/main/Codes/CE903_Team5_Ajay_Test1.ipynb\" target=\"_parent\"><img src=\"https://colab.research.google.com/assets/colab-badge.svg\" alt=\"Open In Colab\"/></a>"
      ]
    },
    {
      "cell_type": "code",
      "metadata": {
        "colab": {
          "base_uri": "https://localhost:8080/"
        },
        "id": "DfBC-J0UMdey",
        "outputId": "49d7d3cd-5123-4f42-eabd-5127c0348e56"
      },
      "source": [
        "!git clone https://github.com/ah20776/CE903-Group-Project.git"
      ],
      "execution_count": 1,
      "outputs": [
        {
          "output_type": "stream",
          "text": [
            "fatal: destination path 'CE903-Group-Project' already exists and is not an empty directory.\n"
          ],
          "name": "stdout"
        }
      ]
    },
    {
      "cell_type": "markdown",
      "metadata": {
        "id": "f2d8PwctNUrm"
      },
      "source": [
        "**Pre-processing**"
      ]
    },
    {
      "cell_type": "code",
      "metadata": {
        "id": "vuASmNDMRdw6"
      },
      "source": [
        "import pandas as pd\n",
        "import numpy as np\n",
        "import warnings\n",
        "warnings.filterwarnings(\"ignore\")\n",
        "import matplotlib.pyplot as plt\n",
        "import seaborn as sns"
      ],
      "execution_count": 2,
      "outputs": []
    },
    {
      "cell_type": "code",
      "metadata": {
        "colab": {
          "base_uri": "https://localhost:8080/",
          "height": 204
        },
        "id": "RVtA9Cr_RfRP",
        "outputId": "38f7dac5-fcb0-483a-acc5-d8a073f4fa3b"
      },
      "source": [
        "\n",
        "df = pd.read_csv(\"/content/CE903-Group-Project/data/framingham.csv\")\n",
        "df.head()"
      ],
      "execution_count": 3,
      "outputs": [
        {
          "output_type": "execute_result",
          "data": {
            "text/html": [
              "<div>\n",
              "<style scoped>\n",
              "    .dataframe tbody tr th:only-of-type {\n",
              "        vertical-align: middle;\n",
              "    }\n",
              "\n",
              "    .dataframe tbody tr th {\n",
              "        vertical-align: top;\n",
              "    }\n",
              "\n",
              "    .dataframe thead th {\n",
              "        text-align: right;\n",
              "    }\n",
              "</style>\n",
              "<table border=\"1\" class=\"dataframe\">\n",
              "  <thead>\n",
              "    <tr style=\"text-align: right;\">\n",
              "      <th></th>\n",
              "      <th>male</th>\n",
              "      <th>age</th>\n",
              "      <th>education</th>\n",
              "      <th>currentSmoker</th>\n",
              "      <th>cigsPerDay</th>\n",
              "      <th>BPMeds</th>\n",
              "      <th>prevalentStroke</th>\n",
              "      <th>prevalentHyp</th>\n",
              "      <th>diabetes</th>\n",
              "      <th>totChol</th>\n",
              "      <th>sysBP</th>\n",
              "      <th>diaBP</th>\n",
              "      <th>BMI</th>\n",
              "      <th>heartRate</th>\n",
              "      <th>glucose</th>\n",
              "      <th>TenYearCHD</th>\n",
              "    </tr>\n",
              "  </thead>\n",
              "  <tbody>\n",
              "    <tr>\n",
              "      <th>0</th>\n",
              "      <td>1</td>\n",
              "      <td>39</td>\n",
              "      <td>4.0</td>\n",
              "      <td>0</td>\n",
              "      <td>0.0</td>\n",
              "      <td>0.0</td>\n",
              "      <td>0</td>\n",
              "      <td>0</td>\n",
              "      <td>0</td>\n",
              "      <td>195.0</td>\n",
              "      <td>106.0</td>\n",
              "      <td>70.0</td>\n",
              "      <td>26.97</td>\n",
              "      <td>80.0</td>\n",
              "      <td>77.0</td>\n",
              "      <td>0</td>\n",
              "    </tr>\n",
              "    <tr>\n",
              "      <th>1</th>\n",
              "      <td>0</td>\n",
              "      <td>46</td>\n",
              "      <td>2.0</td>\n",
              "      <td>0</td>\n",
              "      <td>0.0</td>\n",
              "      <td>0.0</td>\n",
              "      <td>0</td>\n",
              "      <td>0</td>\n",
              "      <td>0</td>\n",
              "      <td>250.0</td>\n",
              "      <td>121.0</td>\n",
              "      <td>81.0</td>\n",
              "      <td>28.73</td>\n",
              "      <td>95.0</td>\n",
              "      <td>76.0</td>\n",
              "      <td>0</td>\n",
              "    </tr>\n",
              "    <tr>\n",
              "      <th>2</th>\n",
              "      <td>1</td>\n",
              "      <td>48</td>\n",
              "      <td>1.0</td>\n",
              "      <td>1</td>\n",
              "      <td>20.0</td>\n",
              "      <td>0.0</td>\n",
              "      <td>0</td>\n",
              "      <td>0</td>\n",
              "      <td>0</td>\n",
              "      <td>245.0</td>\n",
              "      <td>127.5</td>\n",
              "      <td>80.0</td>\n",
              "      <td>25.34</td>\n",
              "      <td>75.0</td>\n",
              "      <td>70.0</td>\n",
              "      <td>0</td>\n",
              "    </tr>\n",
              "    <tr>\n",
              "      <th>3</th>\n",
              "      <td>0</td>\n",
              "      <td>61</td>\n",
              "      <td>3.0</td>\n",
              "      <td>1</td>\n",
              "      <td>30.0</td>\n",
              "      <td>0.0</td>\n",
              "      <td>0</td>\n",
              "      <td>1</td>\n",
              "      <td>0</td>\n",
              "      <td>225.0</td>\n",
              "      <td>150.0</td>\n",
              "      <td>95.0</td>\n",
              "      <td>28.58</td>\n",
              "      <td>65.0</td>\n",
              "      <td>103.0</td>\n",
              "      <td>1</td>\n",
              "    </tr>\n",
              "    <tr>\n",
              "      <th>4</th>\n",
              "      <td>0</td>\n",
              "      <td>46</td>\n",
              "      <td>3.0</td>\n",
              "      <td>1</td>\n",
              "      <td>23.0</td>\n",
              "      <td>0.0</td>\n",
              "      <td>0</td>\n",
              "      <td>0</td>\n",
              "      <td>0</td>\n",
              "      <td>285.0</td>\n",
              "      <td>130.0</td>\n",
              "      <td>84.0</td>\n",
              "      <td>23.10</td>\n",
              "      <td>85.0</td>\n",
              "      <td>85.0</td>\n",
              "      <td>0</td>\n",
              "    </tr>\n",
              "  </tbody>\n",
              "</table>\n",
              "</div>"
            ],
            "text/plain": [
              "   male  age  education  currentSmoker  ...    BMI  heartRate  glucose  TenYearCHD\n",
              "0     1   39        4.0              0  ...  26.97       80.0     77.0           0\n",
              "1     0   46        2.0              0  ...  28.73       95.0     76.0           0\n",
              "2     1   48        1.0              1  ...  25.34       75.0     70.0           0\n",
              "3     0   61        3.0              1  ...  28.58       65.0    103.0           1\n",
              "4     0   46        3.0              1  ...  23.10       85.0     85.0           0\n",
              "\n",
              "[5 rows x 16 columns]"
            ]
          },
          "metadata": {
            "tags": []
          },
          "execution_count": 3
        }
      ]
    },
    {
      "cell_type": "code",
      "metadata": {
        "colab": {
          "base_uri": "https://localhost:8080/"
        },
        "id": "nND5RK5LR4gT",
        "outputId": "7f69ea5d-2749-4271-edb3-931ed2b6729d"
      },
      "source": [
        "\n",
        "df.isnull().sum()"
      ],
      "execution_count": 4,
      "outputs": [
        {
          "output_type": "execute_result",
          "data": {
            "text/plain": [
              "male                 0\n",
              "age                  0\n",
              "education          105\n",
              "currentSmoker        0\n",
              "cigsPerDay          29\n",
              "BPMeds              53\n",
              "prevalentStroke      0\n",
              "prevalentHyp         0\n",
              "diabetes             0\n",
              "totChol             50\n",
              "sysBP                0\n",
              "diaBP                0\n",
              "BMI                 19\n",
              "heartRate            1\n",
              "glucose            388\n",
              "TenYearCHD           0\n",
              "dtype: int64"
            ]
          },
          "metadata": {
            "tags": []
          },
          "execution_count": 4
        }
      ]
    },
    {
      "cell_type": "code",
      "metadata": {
        "id": "tKIYe2gpR6WT"
      },
      "source": [
        "from sklearn.impute import SimpleImputer as Imputer\n",
        "mean_imputer = Imputer(strategy='mean')\n",
        "mode_imputer = Imputer(strategy='most_frequent')"
      ],
      "execution_count": 5,
      "outputs": []
    },
    {
      "cell_type": "code",
      "metadata": {
        "id": "nb2_aVFUSEsV"
      },
      "source": [
        "from sklearn.impute import KNNImputer\n",
        "knn_imputer = KNNImputer(n_neighbors=2)"
      ],
      "execution_count": 6,
      "outputs": []
    },
    {
      "cell_type": "code",
      "metadata": {
        "colab": {
          "base_uri": "https://localhost:8080/"
        },
        "id": "OI92MwPMSdY1",
        "outputId": "53cb880a-ba40-46ee-d98a-36a002345ba4"
      },
      "source": [
        "\n",
        "mean_imputer.fit(df[['glucose']])\n",
        "df['glucose'] = mean_imputer.transform(df[['glucose']])\n",
        "df.drop(['education'],axis=1,inplace=True)\n",
        "df.head(3)\n",
        "df.shape"
      ],
      "execution_count": 7,
      "outputs": [
        {
          "output_type": "execute_result",
          "data": {
            "text/plain": [
              "(4240, 15)"
            ]
          },
          "metadata": {
            "tags": []
          },
          "execution_count": 7
        }
      ]
    },
    {
      "cell_type": "code",
      "metadata": {
        "colab": {
          "base_uri": "https://localhost:8080/"
        },
        "id": "9J1pIqC7SefI",
        "outputId": "902792ac-04fe-46ed-a5e7-b987a5a6e4a0"
      },
      "source": [
        "df.dropna(inplace=True)\n",
        "df.shape"
      ],
      "execution_count": 8,
      "outputs": [
        {
          "output_type": "execute_result",
          "data": {
            "text/plain": [
              "(4090, 15)"
            ]
          },
          "metadata": {
            "tags": []
          },
          "execution_count": 8
        }
      ]
    },
    {
      "cell_type": "code",
      "metadata": {
        "colab": {
          "base_uri": "https://localhost:8080/",
          "height": 896
        },
        "id": "fdxDqgmtSjcK",
        "outputId": "d130e6df-20b9-48a9-b3b7-b6157cb90719"
      },
      "source": [
        "df.hist(bins=30, figsize=(15, 10))"
      ],
      "execution_count": 9,
      "outputs": [
        {
          "output_type": "execute_result",
          "data": {
            "text/plain": [
              "array([[<matplotlib.axes._subplots.AxesSubplot object at 0x7f1873dab690>,\n",
              "        <matplotlib.axes._subplots.AxesSubplot object at 0x7f185a616d10>,\n",
              "        <matplotlib.axes._subplots.AxesSubplot object at 0x7f185a5da3d0>,\n",
              "        <matplotlib.axes._subplots.AxesSubplot object at 0x7f185a60ea50>],\n",
              "       [<matplotlib.axes._subplots.AxesSubplot object at 0x7f185a5d2110>,\n",
              "        <matplotlib.axes._subplots.AxesSubplot object at 0x7f185a586790>,\n",
              "        <matplotlib.axes._subplots.AxesSubplot object at 0x7f185a53be90>,\n",
              "        <matplotlib.axes._subplots.AxesSubplot object at 0x7f185a4ff490>],\n",
              "       [<matplotlib.axes._subplots.AxesSubplot object at 0x7f185a4ff4d0>,\n",
              "        <matplotlib.axes._subplots.AxesSubplot object at 0x7f185a4b3c50>,\n",
              "        <matplotlib.axes._subplots.AxesSubplot object at 0x7f185a42c890>,\n",
              "        <matplotlib.axes._subplots.AxesSubplot object at 0x7f185a3e1f10>],\n",
              "       [<matplotlib.axes._subplots.AxesSubplot object at 0x7f185a3a05d0>,\n",
              "        <matplotlib.axes._subplots.AxesSubplot object at 0x7f185a358c50>,\n",
              "        <matplotlib.axes._subplots.AxesSubplot object at 0x7f185a318310>,\n",
              "        <matplotlib.axes._subplots.AxesSubplot object at 0x7f185a34e990>]],\n",
              "      dtype=object)"
            ]
          },
          "metadata": {
            "tags": []
          },
          "execution_count": 9
        },
        {
          "output_type": "display_data",
          "data": {
            "image/png": "[encoded data removed]",
            "text/plain": [
              "<Figure size 1080x720 with 16 Axes>"
            ]
          },
          "metadata": {
            "tags": [],
            "needs_background": "light"
          }
        }
      ]
    },
    {
      "cell_type": "code",
      "metadata": {
        "colab": {
          "base_uri": "https://localhost:8080/"
        },
        "id": "NV8eDTx9SuTs",
        "outputId": "a05c50e3-8c02-4950-ed26-d10fb7292b24"
      },
      "source": [
        "dat = df[\"TenYearCHD\"].value_counts()\n",
        "print(dat)"
      ],
      "execution_count": 10,
      "outputs": [
        {
          "output_type": "stream",
          "text": [
            "0    3479\n",
            "1     611\n",
            "Name: TenYearCHD, dtype: int64\n"
          ],
          "name": "stdout"
        }
      ]
    },
    {
      "cell_type": "code",
      "metadata": {
        "colab": {
          "base_uri": "https://localhost:8080/",
          "height": 296
        },
        "id": "kIgudGGgSvhM",
        "outputId": "f8c24cdb-b3c8-427c-a42d-402d3788525c"
      },
      "source": [
        "sns.countplot(x='TenYearCHD',data=df)\n",
        "plt.show()\n",
        "print(\"There are 3479 patients without heart disease and 611 patients with the disease\")"
      ],
      "execution_count": 11,
      "outputs": [
        {
          "output_type": "display_data",
          "data": {
            "image/png": "[encoded data removed]",
            "text/plain": [
              "<Figure size 432x288 with 1 Axes>"
            ]
          },
          "metadata": {
            "tags": [],
            "needs_background": "light"
          }
        },
        {
          "output_type": "stream",
          "text": [
            "There are 3479 patients without heart disease and 611 patients with the disease\n"
          ],
          "name": "stdout"
        }
      ]
    },
    {
      "cell_type": "code",
      "metadata": {
        "colab": {
          "base_uri": "https://localhost:8080/"
        },
        "id": "TxaipzELSzc6",
        "outputId": "1dcb9399-ca87-4c5e-9cf2-9373b8853504"
      },
      "source": [
        "df['glucose']"
      ],
      "execution_count": 12,
      "outputs": [
        {
          "output_type": "execute_result",
          "data": {
            "text/plain": [
              "0        77.000000\n",
              "1        76.000000\n",
              "2        70.000000\n",
              "3       103.000000\n",
              "4        85.000000\n",
              "           ...    \n",
              "4234     68.000000\n",
              "4236     81.963655\n",
              "4237    107.000000\n",
              "4238     72.000000\n",
              "4239     80.000000\n",
              "Name: glucose, Length: 4090, dtype: float64"
            ]
          },
          "metadata": {
            "tags": []
          },
          "execution_count": 12
        }
      ]
    },
    {
      "cell_type": "code",
      "metadata": {
        "colab": {
          "base_uri": "https://localhost:8080/",
          "height": 682
        },
        "id": "jdHvAqeLS2Ls",
        "outputId": "a5dda72a-ab73-4b71-e04c-a1f1dd40b04b"
      },
      "source": [
        "\n",
        "fig, ax = plt.subplots(figsize=(10,10))\n",
        "sns.heatmap(df.corr(), annot = True, fmt='.1g')"
      ],
      "execution_count": 13,
      "outputs": [
        {
          "output_type": "execute_result",
          "data": {
            "text/plain": [
              "<matplotlib.axes._subplots.AxesSubplot at 0x7f1859689810>"
            ]
          },
          "metadata": {
            "tags": []
          },
          "execution_count": 13
        },
        {
          "output_type": "display_data",
          "data": {
            "image/png": "[encoded data removed]",
            "text/plain": [
              "<Figure size 720x720 with 2 Axes>"
            ]
          },
          "metadata": {
            "tags": [],
            "needs_background": "light"
          }
        }
      ]
    },
    {
      "cell_type": "code",
      "metadata": {
        "colab": {
          "base_uri": "https://localhost:8080/"
        },
        "id": "ZkFhLxTxTWE3",
        "outputId": "bed55b7a-c311-4677-f1aa-ac8fcae0279c"
      },
      "source": [
        "!pip install boruta"
      ],
      "execution_count": 14,
      "outputs": [
        {
          "output_type": "stream",
          "text": [
            "Requirement already satisfied: boruta in /usr/local/lib/python3.7/dist-packages (0.3)\n",
            "Requirement already satisfied: scipy>=0.17.0 in /usr/local/lib/python3.7/dist-packages (from boruta) (1.4.1)\n",
            "Requirement already satisfied: scikit-learn>=0.17.1 in /usr/local/lib/python3.7/dist-packages (from boruta) (0.22.2.post1)\n",
            "Requirement already satisfied: numpy>=1.10.4 in /usr/local/lib/python3.7/dist-packages (from boruta) (1.19.5)\n",
            "Requirement already satisfied: joblib>=0.11 in /usr/local/lib/python3.7/dist-packages (from scikit-learn>=0.17.1->boruta) (1.0.1)\n"
          ],
          "name": "stdout"
        }
      ]
    },
    {
      "cell_type": "code",
      "metadata": {
        "id": "aYOzOTwIS69G"
      },
      "source": [
        "from sklearn.ensemble import RandomForestClassifier\n",
        "from boruta import BorutaPy"
      ],
      "execution_count": 15,
      "outputs": []
    },
    {
      "cell_type": "code",
      "metadata": {
        "colab": {
          "base_uri": "https://localhost:8080/"
        },
        "id": "-bWp1RvJTbEk",
        "outputId": "fcc69e52-fed0-4413-b992-c9a7d1a3f72c"
      },
      "source": [
        "#define the features\n",
        "X = df.iloc[:,:-1].values\n",
        "y = df[\"TenYearCHD\"].values\n",
        "\n",
        "forest = RandomForestClassifier(n_estimators=1000, n_jobs=-1, class_weight='balanced')\n",
        "\n",
        "# define Boruta feature selection method\n",
        "feat_selector = BorutaPy(forest, n_estimators='auto', verbose=2,random_state=1)\n",
        " \n",
        "# find all relevant features\n",
        "feat_selector.fit(X, y)"
      ],
      "execution_count": 16,
      "outputs": [
        {
          "output_type": "stream",
          "text": [
            "Iteration: \t1 / 100\n",
            "Confirmed: \t0\n",
            "Tentative: \t14\n",
            "Rejected: \t0\n",
            "Iteration: \t2 / 100\n",
            "Confirmed: \t0\n",
            "Tentative: \t14\n",
            "Rejected: \t0\n",
            "Iteration: \t3 / 100\n",
            "Confirmed: \t0\n",
            "Tentative: \t14\n",
            "Rejected: \t0\n",
            "Iteration: \t4 / 100\n",
            "Confirmed: \t0\n",
            "Tentative: \t14\n",
            "Rejected: \t0\n",
            "Iteration: \t5 / 100\n",
            "Confirmed: \t0\n",
            "Tentative: \t14\n",
            "Rejected: \t0\n",
            "Iteration: \t6 / 100\n",
            "Confirmed: \t0\n",
            "Tentative: \t14\n",
            "Rejected: \t0\n",
            "Iteration: \t7 / 100\n",
            "Confirmed: \t0\n",
            "Tentative: \t14\n",
            "Rejected: \t0\n",
            "Iteration: \t8 / 100\n",
            "Confirmed: \t2\n",
            "Tentative: \t4\n",
            "Rejected: \t8\n",
            "Iteration: \t9 / 100\n",
            "Confirmed: \t2\n",
            "Tentative: \t4\n",
            "Rejected: \t8\n",
            "Iteration: \t10 / 100\n",
            "Confirmed: \t2\n",
            "Tentative: \t4\n",
            "Rejected: \t8\n",
            "Iteration: \t11 / 100\n",
            "Confirmed: \t2\n",
            "Tentative: \t4\n",
            "Rejected: \t8\n",
            "Iteration: \t12 / 100\n",
            "Confirmed: \t2\n",
            "Tentative: \t3\n",
            "Rejected: \t9\n",
            "Iteration: \t13 / 100\n",
            "Confirmed: \t2\n",
            "Tentative: \t3\n",
            "Rejected: \t9\n",
            "Iteration: \t14 / 100\n",
            "Confirmed: \t2\n",
            "Tentative: \t3\n",
            "Rejected: \t9\n",
            "Iteration: \t15 / 100\n",
            "Confirmed: \t2\n",
            "Tentative: \t3\n",
            "Rejected: \t9\n",
            "Iteration: \t16 / 100\n",
            "Confirmed: \t2\n",
            "Tentative: \t3\n",
            "Rejected: \t9\n",
            "Iteration: \t17 / 100\n",
            "Confirmed: \t2\n",
            "Tentative: \t3\n",
            "Rejected: \t9\n",
            "Iteration: \t18 / 100\n",
            "Confirmed: \t2\n",
            "Tentative: \t3\n",
            "Rejected: \t9\n",
            "Iteration: \t19 / 100\n",
            "Confirmed: \t2\n",
            "Tentative: \t3\n",
            "Rejected: \t9\n",
            "Iteration: \t20 / 100\n",
            "Confirmed: \t2\n",
            "Tentative: \t3\n",
            "Rejected: \t9\n",
            "Iteration: \t21 / 100\n",
            "Confirmed: \t2\n",
            "Tentative: \t3\n",
            "Rejected: \t9\n",
            "Iteration: \t22 / 100\n",
            "Confirmed: \t2\n",
            "Tentative: \t3\n",
            "Rejected: \t9\n",
            "Iteration: \t23 / 100\n",
            "Confirmed: \t2\n",
            "Tentative: \t3\n",
            "Rejected: \t9\n",
            "Iteration: \t24 / 100\n",
            "Confirmed: \t2\n",
            "Tentative: \t3\n",
            "Rejected: \t9\n",
            "Iteration: \t25 / 100\n",
            "Confirmed: \t2\n",
            "Tentative: \t3\n",
            "Rejected: \t9\n",
            "Iteration: \t26 / 100\n",
            "Confirmed: \t2\n",
            "Tentative: \t2\n",
            "Rejected: \t10\n",
            "Iteration: \t27 / 100\n",
            "Confirmed: \t2\n",
            "Tentative: \t2\n",
            "Rejected: \t10\n",
            "Iteration: \t28 / 100\n",
            "Confirmed: \t2\n",
            "Tentative: \t2\n",
            "Rejected: \t10\n",
            "Iteration: \t29 / 100\n",
            "Confirmed: \t2\n",
            "Tentative: \t2\n",
            "Rejected: \t10\n",
            "Iteration: \t30 / 100\n",
            "Confirmed: \t2\n",
            "Tentative: \t2\n",
            "Rejected: \t10\n",
            "Iteration: \t31 / 100\n",
            "Confirmed: \t2\n",
            "Tentative: \t2\n",
            "Rejected: \t10\n",
            "Iteration: \t32 / 100\n",
            "Confirmed: \t2\n",
            "Tentative: \t2\n",
            "Rejected: \t10\n",
            "Iteration: \t33 / 100\n",
            "Confirmed: \t2\n",
            "Tentative: \t2\n",
            "Rejected: \t10\n",
            "Iteration: \t34 / 100\n",
            "Confirmed: \t2\n",
            "Tentative: \t2\n",
            "Rejected: \t10\n",
            "Iteration: \t35 / 100\n",
            "Confirmed: \t2\n",
            "Tentative: \t2\n",
            "Rejected: \t10\n",
            "Iteration: \t36 / 100\n",
            "Confirmed: \t2\n",
            "Tentative: \t2\n",
            "Rejected: \t10\n",
            "Iteration: \t37 / 100\n",
            "Confirmed: \t2\n",
            "Tentative: \t2\n",
            "Rejected: \t10\n",
            "Iteration: \t38 / 100\n",
            "Confirmed: \t2\n",
            "Tentative: \t2\n",
            "Rejected: \t10\n",
            "Iteration: \t39 / 100\n",
            "Confirmed: \t2\n",
            "Tentative: \t2\n",
            "Rejected: \t10\n",
            "Iteration: \t40 / 100\n",
            "Confirmed: \t2\n",
            "Tentative: \t2\n",
            "Rejected: \t10\n",
            "Iteration: \t41 / 100\n",
            "Confirmed: \t2\n",
            "Tentative: \t2\n",
            "Rejected: \t10\n",
            "Iteration: \t42 / 100\n",
            "Confirmed: \t2\n",
            "Tentative: \t2\n",
            "Rejected: \t10\n",
            "Iteration: \t43 / 100\n",
            "Confirmed: \t2\n",
            "Tentative: \t2\n",
            "Rejected: \t10\n",
            "Iteration: \t44 / 100\n",
            "Confirmed: \t2\n",
            "Tentative: \t2\n",
            "Rejected: \t10\n",
            "Iteration: \t45 / 100\n",
            "Confirmed: \t2\n",
            "Tentative: \t2\n",
            "Rejected: \t10\n",
            "Iteration: \t46 / 100\n",
            "Confirmed: \t2\n",
            "Tentative: \t2\n",
            "Rejected: \t10\n",
            "Iteration: \t47 / 100\n",
            "Confirmed: \t2\n",
            "Tentative: \t2\n",
            "Rejected: \t10\n",
            "Iteration: \t48 / 100\n",
            "Confirmed: \t2\n",
            "Tentative: \t2\n",
            "Rejected: \t10\n",
            "Iteration: \t49 / 100\n",
            "Confirmed: \t2\n",
            "Tentative: \t2\n",
            "Rejected: \t10\n",
            "Iteration: \t50 / 100\n",
            "Confirmed: \t2\n",
            "Tentative: \t2\n",
            "Rejected: \t10\n",
            "Iteration: \t51 / 100\n",
            "Confirmed: \t2\n",
            "Tentative: \t2\n",
            "Rejected: \t10\n",
            "Iteration: \t52 / 100\n",
            "Confirmed: \t2\n",
            "Tentative: \t2\n",
            "Rejected: \t10\n",
            "Iteration: \t53 / 100\n",
            "Confirmed: \t2\n",
            "Tentative: \t2\n",
            "Rejected: \t10\n",
            "Iteration: \t54 / 100\n",
            "Confirmed: \t2\n",
            "Tentative: \t2\n",
            "Rejected: \t10\n",
            "Iteration: \t55 / 100\n",
            "Confirmed: \t2\n",
            "Tentative: \t2\n",
            "Rejected: \t10\n",
            "Iteration: \t56 / 100\n",
            "Confirmed: \t2\n",
            "Tentative: \t2\n",
            "Rejected: \t10\n",
            "Iteration: \t57 / 100\n",
            "Confirmed: \t2\n",
            "Tentative: \t2\n",
            "Rejected: \t10\n",
            "Iteration: \t58 / 100\n",
            "Confirmed: \t2\n",
            "Tentative: \t2\n",
            "Rejected: \t10\n",
            "Iteration: \t59 / 100\n",
            "Confirmed: \t2\n",
            "Tentative: \t2\n",
            "Rejected: \t10\n",
            "Iteration: \t60 / 100\n",
            "Confirmed: \t2\n",
            "Tentative: \t2\n",
            "Rejected: \t10\n",
            "Iteration: \t61 / 100\n",
            "Confirmed: \t2\n",
            "Tentative: \t2\n",
            "Rejected: \t10\n",
            "Iteration: \t62 / 100\n",
            "Confirmed: \t2\n",
            "Tentative: \t2\n",
            "Rejected: \t10\n",
            "Iteration: \t63 / 100\n",
            "Confirmed: \t2\n",
            "Tentative: \t2\n",
            "Rejected: \t10\n",
            "Iteration: \t64 / 100\n",
            "Confirmed: \t2\n",
            "Tentative: \t2\n",
            "Rejected: \t10\n",
            "Iteration: \t65 / 100\n",
            "Confirmed: \t2\n",
            "Tentative: \t2\n",
            "Rejected: \t10\n",
            "Iteration: \t66 / 100\n",
            "Confirmed: \t2\n",
            "Tentative: \t2\n",
            "Rejected: \t10\n",
            "Iteration: \t67 / 100\n",
            "Confirmed: \t2\n",
            "Tentative: \t2\n",
            "Rejected: \t10\n",
            "Iteration: \t68 / 100\n",
            "Confirmed: \t2\n",
            "Tentative: \t2\n",
            "Rejected: \t10\n",
            "Iteration: \t69 / 100\n",
            "Confirmed: \t2\n",
            "Tentative: \t2\n",
            "Rejected: \t10\n",
            "Iteration: \t70 / 100\n",
            "Confirmed: \t2\n",
            "Tentative: \t2\n",
            "Rejected: \t10\n",
            "Iteration: \t71 / 100\n",
            "Confirmed: \t2\n",
            "Tentative: \t2\n",
            "Rejected: \t10\n",
            "Iteration: \t72 / 100\n",
            "Confirmed: \t2\n",
            "Tentative: \t2\n",
            "Rejected: \t10\n",
            "Iteration: \t73 / 100\n",
            "Confirmed: \t2\n",
            "Tentative: \t2\n",
            "Rejected: \t10\n",
            "Iteration: \t74 / 100\n",
            "Confirmed: \t2\n",
            "Tentative: \t2\n",
            "Rejected: \t10\n",
            "Iteration: \t75 / 100\n",
            "Confirmed: \t2\n",
            "Tentative: \t2\n",
            "Rejected: \t10\n",
            "Iteration: \t76 / 100\n",
            "Confirmed: \t2\n",
            "Tentative: \t2\n",
            "Rejected: \t10\n",
            "Iteration: \t77 / 100\n",
            "Confirmed: \t2\n",
            "Tentative: \t2\n",
            "Rejected: \t10\n",
            "Iteration: \t78 / 100\n",
            "Confirmed: \t2\n",
            "Tentative: \t2\n",
            "Rejected: \t10\n",
            "Iteration: \t79 / 100\n",
            "Confirmed: \t2\n",
            "Tentative: \t2\n",
            "Rejected: \t10\n",
            "Iteration: \t80 / 100\n",
            "Confirmed: \t2\n",
            "Tentative: \t2\n",
            "Rejected: \t10\n",
            "Iteration: \t81 / 100\n",
            "Confirmed: \t2\n",
            "Tentative: \t2\n",
            "Rejected: \t10\n",
            "Iteration: \t82 / 100\n",
            "Confirmed: \t2\n",
            "Tentative: \t2\n",
            "Rejected: \t10\n",
            "Iteration: \t83 / 100\n",
            "Confirmed: \t2\n",
            "Tentative: \t2\n",
            "Rejected: \t10\n",
            "Iteration: \t84 / 100\n",
            "Confirmed: \t2\n",
            "Tentative: \t2\n",
            "Rejected: \t10\n",
            "Iteration: \t85 / 100\n",
            "Confirmed: \t2\n",
            "Tentative: \t2\n",
            "Rejected: \t10\n",
            "Iteration: \t86 / 100\n",
            "Confirmed: \t2\n",
            "Tentative: \t2\n",
            "Rejected: \t10\n",
            "Iteration: \t87 / 100\n",
            "Confirmed: \t2\n",
            "Tentative: \t2\n",
            "Rejected: \t10\n",
            "Iteration: \t88 / 100\n",
            "Confirmed: \t2\n",
            "Tentative: \t2\n",
            "Rejected: \t10\n",
            "Iteration: \t89 / 100\n",
            "Confirmed: \t2\n",
            "Tentative: \t2\n",
            "Rejected: \t10\n",
            "Iteration: \t90 / 100\n",
            "Confirmed: \t2\n",
            "Tentative: \t2\n",
            "Rejected: \t10\n",
            "Iteration: \t91 / 100\n",
            "Confirmed: \t2\n",
            "Tentative: \t2\n",
            "Rejected: \t10\n",
            "Iteration: \t92 / 100\n",
            "Confirmed: \t2\n",
            "Tentative: \t2\n",
            "Rejected: \t10\n",
            "Iteration: \t93 / 100\n",
            "Confirmed: \t2\n",
            "Tentative: \t2\n",
            "Rejected: \t10\n",
            "Iteration: \t94 / 100\n",
            "Confirmed: \t2\n",
            "Tentative: \t2\n",
            "Rejected: \t10\n",
            "Iteration: \t95 / 100\n",
            "Confirmed: \t2\n",
            "Tentative: \t2\n",
            "Rejected: \t10\n",
            "Iteration: \t96 / 100\n",
            "Confirmed: \t2\n",
            "Tentative: \t2\n",
            "Rejected: \t10\n",
            "Iteration: \t97 / 100\n",
            "Confirmed: \t2\n",
            "Tentative: \t2\n",
            "Rejected: \t10\n",
            "Iteration: \t98 / 100\n",
            "Confirmed: \t2\n",
            "Tentative: \t2\n",
            "Rejected: \t10\n",
            "Iteration: \t99 / 100\n",
            "Confirmed: \t2\n",
            "Tentative: \t2\n",
            "Rejected: \t10\n",
            "\n",
            "\n",
            "BorutaPy finished running.\n",
            "\n",
            "Iteration: \t100 / 100\n",
            "Confirmed: \t2\n",
            "Tentative: \t1\n",
            "Rejected: \t10\n"
          ],
          "name": "stdout"
        },
        {
          "output_type": "execute_result",
          "data": {
            "text/plain": [
              "BorutaPy(alpha=0.05,\n",
              "         estimator=RandomForestClassifier(bootstrap=True, ccp_alpha=0.0,\n",
              "                                          class_weight='balanced',\n",
              "                                          criterion='gini', max_depth=None,\n",
              "                                          max_features='auto',\n",
              "                                          max_leaf_nodes=None, max_samples=None,\n",
              "                                          min_impurity_decrease=0.0,\n",
              "                                          min_impurity_split=None,\n",
              "                                          min_samples_leaf=1,\n",
              "                                          min_samples_split=2,\n",
              "                                          min_weight_fraction_leaf=0.0,\n",
              "                                          n_estimators=28, n_jobs=-1,\n",
              "                                          oob_score=False,\n",
              "                                          random_state=RandomState(MT19937) at 0x7F184E847490,\n",
              "                                          verbose=0, warm_start=False),\n",
              "         max_iter=100, n_estimators='auto', perc=100,\n",
              "         random_state=RandomState(MT19937) at 0x7F184E847490, two_step=True,\n",
              "         verbose=2)"
            ]
          },
          "metadata": {
            "tags": []
          },
          "execution_count": 16
        }
      ]
    },
    {
      "cell_type": "code",
      "metadata": {
        "colab": {
          "base_uri": "https://localhost:8080/"
        },
        "id": "e8BWH4O2UIR6",
        "outputId": "431f9e07-bbb6-4e16-8bb5-7b56a77a0c13"
      },
      "source": [
        "# check selected features\n",
        "feat_selector.support_"
      ],
      "execution_count": 17,
      "outputs": [
        {
          "output_type": "execute_result",
          "data": {
            "text/plain": [
              "array([False,  True, False, False, False, False, False, False, False,\n",
              "        True, False, False, False, False])"
            ]
          },
          "metadata": {
            "tags": []
          },
          "execution_count": 17
        }
      ]
    },
    {
      "cell_type": "code",
      "metadata": {
        "colab": {
          "base_uri": "https://localhost:8080/"
        },
        "id": "PGuUGyzbUJcx",
        "outputId": "bd234d54-b5ee-45f9-c169-cd6bcef258f7"
      },
      "source": [
        "\n",
        "# check ranking of features\n",
        "feat_selector.ranking_"
      ],
      "execution_count": 18,
      "outputs": [
        {
          "output_type": "execute_result",
          "data": {
            "text/plain": [
              "array([ 9,  1, 10,  7, 12, 13,  8, 11,  3,  1,  4,  2,  6,  4])"
            ]
          },
          "metadata": {
            "tags": []
          },
          "execution_count": 18
        }
      ]
    },
    {
      "cell_type": "code",
      "metadata": {
        "colab": {
          "base_uri": "https://localhost:8080/"
        },
        "id": "JcLoaVVGUMO2",
        "outputId": "d796f829-4dbc-4667-b6da-3a0c6bf0265b"
      },
      "source": [
        "df.columns[:-1][feat_selector.support_].to_list()"
      ],
      "execution_count": 19,
      "outputs": [
        {
          "output_type": "execute_result",
          "data": {
            "text/plain": [
              "['age', 'sysBP']"
            ]
          },
          "metadata": {
            "tags": []
          },
          "execution_count": 19
        }
      ]
    },
    {
      "cell_type": "code",
      "metadata": {
        "colab": {
          "base_uri": "https://localhost:8080/"
        },
        "id": "Xd8HbmtzUPRG",
        "outputId": "6d190b00-7166-4a20-8ae8-76e74b3c58b5"
      },
      "source": [
        "data = df.columns[:-1][feat_selector.ranking_ <=7].tolist()\n",
        "data"
      ],
      "execution_count": 20,
      "outputs": [
        {
          "output_type": "execute_result",
          "data": {
            "text/plain": [
              "['age',\n",
              " 'cigsPerDay',\n",
              " 'totChol',\n",
              " 'sysBP',\n",
              " 'diaBP',\n",
              " 'BMI',\n",
              " 'heartRate',\n",
              " 'glucose']"
            ]
          },
          "metadata": {
            "tags": []
          },
          "execution_count": 20
        }
      ]
    },
    {
      "cell_type": "code",
      "metadata": {
        "id": "VFsdqkswUg0b"
      },
      "source": [
        "\n",
        "X = df[data]\n",
        "y = df[\"TenYearCHD\"]"
      ],
      "execution_count": 21,
      "outputs": []
    },
    {
      "cell_type": "code",
      "metadata": {
        "id": "tgc8hWu6UnZa"
      },
      "source": [
        "from imblearn.over_sampling import SMOTE"
      ],
      "execution_count": 22,
      "outputs": []
    },
    {
      "cell_type": "code",
      "metadata": {
        "id": "0Db7BfWgUowk"
      },
      "source": [
        "from imblearn.under_sampling import RandomUnderSampler\n",
        "from imblearn.over_sampling import RandomOverSampler"
      ],
      "execution_count": 23,
      "outputs": []
    },
    {
      "cell_type": "code",
      "metadata": {
        "id": "hAzPogIXUu-I"
      },
      "source": [
        "sm = SMOTE(random_state=40)\n",
        "X_sm, y_sm = sm.fit_resample(X, y)\n",
        "\n",
        "# oversample = RandomOverSampler(sampling_strategy='minority')\n",
        "# X_over, y_over = oversample.fit_resample(X, y)"
      ],
      "execution_count": 24,
      "outputs": []
    },
    {
      "cell_type": "code",
      "metadata": {
        "id": "jgAxadwtVDRy"
      },
      "source": [
        "from sklearn.model_selection import train_test_split"
      ],
      "execution_count": 25,
      "outputs": []
    },
    {
      "cell_type": "code",
      "metadata": {
        "id": "4OfvfDcvVWlq"
      },
      "source": [
        "X_train, X_test, y_train, y_test = train_test_split(X_sm, y_sm,test_size=0.3,random_state =6)\n",
        "# X_train, X_test, y_train, y_test = train_test_split(X_over, y_over,test_size=0.3,random_state =6)"
      ],
      "execution_count": 26,
      "outputs": []
    },
    {
      "cell_type": "markdown",
      "metadata": {
        "id": "pHwakjOrZlLf"
      },
      "source": [
        "**KNeighborsClassifier**"
      ]
    },
    {
      "cell_type": "code",
      "metadata": {
        "id": "WkN8ECsVWMgB"
      },
      "source": [
        "from sklearn.neighbors import KNeighborsClassifier\n",
        "from sklearn.metrics import accuracy_score, confusion_matrix, classification_report"
      ],
      "execution_count": 27,
      "outputs": []
    },
    {
      "cell_type": "code",
      "metadata": {
        "colab": {
          "base_uri": "https://localhost:8080/"
        },
        "id": "zFHaCK5JWWcW",
        "outputId": "aa175c89-275f-4a8a-b71d-cfc21b5dcfd7"
      },
      "source": [
        "knn = KNeighborsClassifier(n_neighbors=3)\n",
        "knn.fit(X_train,y_train)\n",
        "knn_pred= knn.predict(X_test)\n",
        "print(\"KNeighborsClassifier\")\n",
        "print('---------------------')\n",
        "print('Accuracy: ',accuracy_score(y_test,knn_pred))\n",
        "print('Confusion Matrix: \\n',confusion_matrix(y_test,knn_pred))\n",
        "print(classification_report(y_test, knn_pred))\n"
      ],
      "execution_count": 28,
      "outputs": [
        {
          "output_type": "stream",
          "text": [
            "KNeighborsClassifier\n",
            "---------------------\n",
            "Accuracy:  0.8318965517241379\n",
            "Confusion Matrix: \n",
            " [[ 706  325]\n",
            " [  26 1031]]\n",
            "              precision    recall  f1-score   support\n",
            "\n",
            "           0       0.96      0.68      0.80      1031\n",
            "           1       0.76      0.98      0.85      1057\n",
            "\n",
            "    accuracy                           0.83      2088\n",
            "   macro avg       0.86      0.83      0.83      2088\n",
            "weighted avg       0.86      0.83      0.83      2088\n",
            "\n"
          ],
          "name": "stdout"
        }
      ]
    },
    {
      "cell_type": "markdown",
      "metadata": {
        "id": "TH74fZ6DZquW"
      },
      "source": [
        "**Naive Bayes**"
      ]
    },
    {
      "cell_type": "code",
      "metadata": {
        "colab": {
          "base_uri": "https://localhost:8080/"
        },
        "id": "itSk2pZQZt44",
        "outputId": "dcc3490e-63bf-4123-b045-d3d0eb849172"
      },
      "source": [
        "from sklearn.naive_bayes import GaussianNB\n",
        "nb = GaussianNB()\n",
        "nb.fit(X_train,y_train)\n",
        "nb_pred= nb.predict(X_test)\n",
        "print(\"Naive Bayes\")\n",
        "print('---------------------')\n",
        "print('Accuracy: ',accuracy_score(y_test,nb_pred))\n",
        "print('Confusion Matrix: \\n',confusion_matrix(y_test,nb_pred))\n",
        "print(classification_report(y_test, nb_pred))"
      ],
      "execution_count": 29,
      "outputs": [
        {
          "output_type": "stream",
          "text": [
            "Naive Bayes\n",
            "---------------------\n",
            "Accuracy:  0.6024904214559387\n",
            "Confusion Matrix: \n",
            " [[798 233]\n",
            " [597 460]]\n",
            "              precision    recall  f1-score   support\n",
            "\n",
            "           0       0.57      0.77      0.66      1031\n",
            "           1       0.66      0.44      0.53      1057\n",
            "\n",
            "    accuracy                           0.60      2088\n",
            "   macro avg       0.62      0.60      0.59      2088\n",
            "weighted avg       0.62      0.60      0.59      2088\n",
            "\n"
          ],
          "name": "stdout"
        }
      ]
    },
    {
      "cell_type": "markdown",
      "metadata": {
        "id": "4Juy3zVxbbnF"
      },
      "source": [
        "**Random Forest Classifier**"
      ]
    },
    {
      "cell_type": "code",
      "metadata": {
        "colab": {
          "base_uri": "https://localhost:8080/"
        },
        "id": "8coicZrlbNqN",
        "outputId": "1f6c4759-6886-4718-ff10-4adc23bcb8be"
      },
      "source": [
        "from sklearn.ensemble import RandomForestClassifier\n",
        "rf = RandomForestClassifier()\n",
        "rf.fit(X_train,y_train)\n",
        "rf_pred= rf.predict(X_test)\n",
        "print(\"Random Forest Classifier\")\n",
        "print('---------------------')\n",
        "print('Accuracy: ',accuracy_score(y_test,rf_pred))\n",
        "print('Confusion Matrix: \\n',confusion_matrix(y_test,rf_pred))\n",
        "print(classification_report(y_test, rf_pred))"
      ],
      "execution_count": 30,
      "outputs": [
        {
          "output_type": "stream",
          "text": [
            "Random Forest Classifier\n",
            "---------------------\n",
            "Accuracy:  0.8673371647509579\n",
            "Confusion Matrix: \n",
            " [[866 165]\n",
            " [112 945]]\n",
            "              precision    recall  f1-score   support\n",
            "\n",
            "           0       0.89      0.84      0.86      1031\n",
            "           1       0.85      0.89      0.87      1057\n",
            "\n",
            "    accuracy                           0.87      2088\n",
            "   macro avg       0.87      0.87      0.87      2088\n",
            "weighted avg       0.87      0.87      0.87      2088\n",
            "\n"
          ],
          "name": "stdout"
        }
      ]
    },
    {
      "cell_type": "code",
      "metadata": {
        "colab": {
          "base_uri": "https://localhost:8080/"
        },
        "id": "M-nMyoEmpsd5",
        "outputId": "5819a68d-3c73-47b0-a2e4-a5905a708330"
      },
      "source": [
        "from pprint import pprint\n",
        "# Look at parameters used by our current forest\n",
        "print('Parameters currently in use:\\n')\n",
        "pprint(rf.get_params())"
      ],
      "execution_count": 31,
      "outputs": [
        {
          "output_type": "stream",
          "text": [
            "Parameters currently in use:\n",
            "\n",
            "{'bootstrap': True,\n",
            " 'ccp_alpha': 0.0,\n",
            " 'class_weight': None,\n",
            " 'criterion': 'gini',\n",
            " 'max_depth': None,\n",
            " 'max_features': 'auto',\n",
            " 'max_leaf_nodes': None,\n",
            " 'max_samples': None,\n",
            " 'min_impurity_decrease': 0.0,\n",
            " 'min_impurity_split': None,\n",
            " 'min_samples_leaf': 1,\n",
            " 'min_samples_split': 2,\n",
            " 'min_weight_fraction_leaf': 0.0,\n",
            " 'n_estimators': 100,\n",
            " 'n_jobs': None,\n",
            " 'oob_score': False,\n",
            " 'random_state': None,\n",
            " 'verbose': 0,\n",
            " 'warm_start': False}\n"
          ],
          "name": "stdout"
        }
      ]
    },
    {
      "cell_type": "markdown",
      "metadata": {
        "id": "bNDP_THZhOjT"
      },
      "source": [
        "Best model is Random Forest Classifier. Trying to get it more accurate"
      ]
    },
    {
      "cell_type": "code",
      "metadata": {
        "colab": {
          "base_uri": "https://localhost:8080/"
        },
        "id": "AummWkH8pdJs",
        "outputId": "258cb86e-fda4-4335-b0fa-bd6b25d5b3bd"
      },
      "source": [
        "\n",
        "# Number of trees in random forest\n",
        "n_estimators = [int(x) for x in np.linspace(start = 200, stop = 2000, num = 10)]\n",
        "# Number of features to consider at every split\n",
        "max_features = ['auto', 'sqrt']\n",
        "# Maximum number of levels in tree\n",
        "max_depth = [int(x) for x in np.linspace(10, 110, num = 11)]\n",
        "max_depth.append(None)\n",
        "# Minimum number of samples required to split a node\n",
        "min_samples_split = [2, 5, 10]\n",
        "# Minimum number of samples required at each leaf node\n",
        "min_samples_leaf = [1, 2, 4]\n",
        "# Method of selecting samples for training each tree\n",
        "bootstrap = [True, False]\n",
        "# Create the random grid\n",
        "random_grid = {'n_estimators': n_estimators,\n",
        "               'max_features': max_features,\n",
        "               'max_depth': max_depth,\n",
        "               'min_samples_split': min_samples_split,\n",
        "               'min_samples_leaf': min_samples_leaf,\n",
        "               'bootstrap': bootstrap}\n",
        "pprint(random_grid)"
      ],
      "execution_count": 34,
      "outputs": [
        {
          "output_type": "stream",
          "text": [
            "{'bootstrap': [True, False],\n",
            " 'max_depth': [10, 20, 30, 40, 50, 60, 70, 80, 90, 100, 110, None],\n",
            " 'max_features': ['auto', 'sqrt'],\n",
            " 'min_samples_leaf': [1, 2, 4],\n",
            " 'min_samples_split': [2, 5, 10],\n",
            " 'n_estimators': [200, 400, 600, 800, 1000, 1200, 1400, 1600, 1800, 2000]}\n"
          ],
          "name": "stdout"
        }
      ]
    },
    {
      "cell_type": "code",
      "metadata": {
        "colab": {
          "base_uri": "https://localhost:8080/"
        },
        "id": "w6QkBX7Mp71Y",
        "outputId": "1cfdd947-4b69-4062-a63b-2ae4bf63ca45"
      },
      "source": [
        "from sklearn.model_selection import RandomizedSearchCV\n",
        "# Random search of parameters, using 3 fold cross validation, \n",
        "# search across 100 different combinations, and use all available cores\n",
        "rf_random = RandomizedSearchCV(estimator = rf, param_distributions = random_grid, n_iter = 100, cv = 3, verbose=2, random_state=42, n_jobs = -1)\n",
        "# Fit the random search model\n",
        "rf_random.fit(X_train,y_train)"
      ],
      "execution_count": 36,
      "outputs": [
        {
          "output_type": "stream",
          "text": [
            "Fitting 3 folds for each of 100 candidates, totalling 300 fits\n"
          ],
          "name": "stdout"
        },
        {
          "output_type": "stream",
          "text": [
            "[Parallel(n_jobs=-1)]: Using backend LokyBackend with 2 concurrent workers.\n",
            "[Parallel(n_jobs=-1)]: Done  37 tasks      | elapsed:  3.9min\n",
            "[Parallel(n_jobs=-1)]: Done 158 tasks      | elapsed: 16.4min\n",
            "[Parallel(n_jobs=-1)]: Done 300 out of 300 | elapsed: 29.9min finished\n"
          ],
          "name": "stderr"
        },
        {
          "output_type": "execute_result",
          "data": {
            "text/plain": [
              "RandomizedSearchCV(cv=3, error_score=nan,\n",
              "                   estimator=RandomForestClassifier(bootstrap=True,\n",
              "                                                    ccp_alpha=0.0,\n",
              "                                                    class_weight=None,\n",
              "                                                    criterion='gini',\n",
              "                                                    max_depth=None,\n",
              "                                                    max_features='auto',\n",
              "                                                    max_leaf_nodes=None,\n",
              "                                                    max_samples=None,\n",
              "                                                    min_impurity_decrease=0.0,\n",
              "                                                    min_impurity_split=None,\n",
              "                                                    min_samples_leaf=1,\n",
              "                                                    min_samples_split=2,\n",
              "                                                    min_weight_fraction_leaf=0.0,\n",
              "                                                    n_estimators=100,\n",
              "                                                    n_jobs...\n",
              "                   param_distributions={'bootstrap': [True, False],\n",
              "                                        'max_depth': [10, 20, 30, 40, 50, 60,\n",
              "                                                      70, 80, 90, 100, 110,\n",
              "                                                      None],\n",
              "                                        'max_features': ['auto', 'sqrt'],\n",
              "                                        'min_samples_leaf': [1, 2, 4],\n",
              "                                        'min_samples_split': [2, 5, 10],\n",
              "                                        'n_estimators': [200, 400, 600, 800,\n",
              "                                                         1000, 1200, 1400, 1600,\n",
              "                                                         1800, 2000]},\n",
              "                   pre_dispatch='2*n_jobs', random_state=42, refit=True,\n",
              "                   return_train_score=False, scoring=None, verbose=2)"
            ]
          },
          "metadata": {
            "tags": []
          },
          "execution_count": 36
        }
      ]
    },
    {
      "cell_type": "code",
      "metadata": {
        "colab": {
          "base_uri": "https://localhost:8080/"
        },
        "id": "wJZL_-uey6QS",
        "outputId": "12725abc-3959-4cba-b1da-f1a851de1729"
      },
      "source": [
        "rf_random.best_params_"
      ],
      "execution_count": 37,
      "outputs": [
        {
          "output_type": "execute_result",
          "data": {
            "text/plain": [
              "{'bootstrap': False,\n",
              " 'max_depth': 50,\n",
              " 'max_features': 'auto',\n",
              " 'min_samples_leaf': 1,\n",
              " 'min_samples_split': 2,\n",
              " 'n_estimators': 1000}"
            ]
          },
          "metadata": {
            "tags": []
          },
          "execution_count": 37
        }
      ]
    }
  ]
}